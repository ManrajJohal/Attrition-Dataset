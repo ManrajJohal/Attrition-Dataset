{
 "cells": [
  {
   "cell_type": "code",
   "execution_count": 75,
   "id": "ee4b04b9",
   "metadata": {},
   "outputs": [],
   "source": [
    "import os"
   ]
  },
  {
   "cell_type": "code",
   "execution_count": 76,
   "id": "2f36cca0",
   "metadata": {},
   "outputs": [
    {
     "data": {
      "text/plain": [
       "'C:\\\\Users\\\\Fuzzy\\\\Desktop\\\\Python'"
      ]
     },
     "execution_count": 76,
     "metadata": {},
     "output_type": "execute_result"
    }
   ],
   "source": [
    "os.getcwd()"
   ]
  },
  {
   "cell_type": "code",
   "execution_count": 77,
   "id": "a966259e",
   "metadata": {},
   "outputs": [],
   "source": [
    "import pandas as pd\n",
    "import matplotlib.pyplot as plt\n",
    "import numpy as np"
   ]
  },
  {
   "cell_type": "code",
   "execution_count": 78,
   "id": "d5a8500f",
   "metadata": {},
   "outputs": [],
   "source": [
    "df= pd.read_csv('Football_Data_final.csv')"
   ]
  },
  {
   "cell_type": "code",
   "execution_count": 79,
   "id": "3a86990e",
   "metadata": {},
   "outputs": [
    {
     "data": {
      "text/html": [
       "<div>\n",
       "<style scoped>\n",
       "    .dataframe tbody tr th:only-of-type {\n",
       "        vertical-align: middle;\n",
       "    }\n",
       "\n",
       "    .dataframe tbody tr th {\n",
       "        vertical-align: top;\n",
       "    }\n",
       "\n",
       "    .dataframe thead th {\n",
       "        text-align: right;\n",
       "    }\n",
       "</style>\n",
       "<table border=\"1\" class=\"dataframe\">\n",
       "  <thead>\n",
       "    <tr style=\"text-align: right;\">\n",
       "      <th></th>\n",
       "      <th>TEAM</th>\n",
       "      <th>PTS</th>\n",
       "      <th>W</th>\n",
       "      <th>D</th>\n",
       "      <th>L</th>\n",
       "      <th>GF</th>\n",
       "      <th>GA</th>\n",
       "      <th>SAVES</th>\n",
       "      <th>CLEAN SHEET</th>\n",
       "      <th>CK goals against</th>\n",
       "      <th>SHOTS ON TARGET</th>\n",
       "      <th>PASSES COMPLETED</th>\n",
       "      <th>Cross Passes</th>\n",
       "      <th>Tkl+Int</th>\n",
       "      <th>BLOCKS</th>\n",
       "      <th>Defensive Error</th>\n",
       "      <th>Posession PERC</th>\n",
       "      <th>LOOSE BALLS RECOVER</th>\n",
       "      <th>AERIAL DUEL WON PERC</th>\n",
       "    </tr>\n",
       "  </thead>\n",
       "  <tbody>\n",
       "    <tr>\n",
       "      <th>0</th>\n",
       "      <td>Arsenal</td>\n",
       "      <td>69</td>\n",
       "      <td>22</td>\n",
       "      <td>3</td>\n",
       "      <td>13</td>\n",
       "      <td>61</td>\n",
       "      <td>48</td>\n",
       "      <td>100</td>\n",
       "      <td>13</td>\n",
       "      <td>3</td>\n",
       "      <td>186</td>\n",
       "      <td>16176</td>\n",
       "      <td>633</td>\n",
       "      <td>836</td>\n",
       "      <td>386</td>\n",
       "      <td>20</td>\n",
       "      <td>52.8</td>\n",
       "      <td>1861</td>\n",
       "      <td>44.7</td>\n",
       "    </tr>\n",
       "    <tr>\n",
       "      <th>1</th>\n",
       "      <td>Aston Villa</td>\n",
       "      <td>45</td>\n",
       "      <td>13</td>\n",
       "      <td>6</td>\n",
       "      <td>19</td>\n",
       "      <td>52</td>\n",
       "      <td>54</td>\n",
       "      <td>96</td>\n",
       "      <td>11</td>\n",
       "      <td>5</td>\n",
       "      <td>159</td>\n",
       "      <td>12748</td>\n",
       "      <td>670</td>\n",
       "      <td>974</td>\n",
       "      <td>453</td>\n",
       "      <td>13</td>\n",
       "      <td>46.5</td>\n",
       "      <td>1850</td>\n",
       "      <td>49.0</td>\n",
       "    </tr>\n",
       "    <tr>\n",
       "      <th>2</th>\n",
       "      <td>Brentford</td>\n",
       "      <td>46</td>\n",
       "      <td>13</td>\n",
       "      <td>7</td>\n",
       "      <td>18</td>\n",
       "      <td>48</td>\n",
       "      <td>56</td>\n",
       "      <td>125</td>\n",
       "      <td>9</td>\n",
       "      <td>8</td>\n",
       "      <td>141</td>\n",
       "      <td>11676</td>\n",
       "      <td>640</td>\n",
       "      <td>1000</td>\n",
       "      <td>383</td>\n",
       "      <td>7</td>\n",
       "      <td>44.8</td>\n",
       "      <td>2061</td>\n",
       "      <td>49.6</td>\n",
       "    </tr>\n",
       "    <tr>\n",
       "      <th>3</th>\n",
       "      <td>Brighton</td>\n",
       "      <td>51</td>\n",
       "      <td>12</td>\n",
       "      <td>15</td>\n",
       "      <td>11</td>\n",
       "      <td>42</td>\n",
       "      <td>44</td>\n",
       "      <td>102</td>\n",
       "      <td>11</td>\n",
       "      <td>6</td>\n",
       "      <td>141</td>\n",
       "      <td>16410</td>\n",
       "      <td>728</td>\n",
       "      <td>1026</td>\n",
       "      <td>480</td>\n",
       "      <td>12</td>\n",
       "      <td>54.4</td>\n",
       "      <td>2154</td>\n",
       "      <td>53.3</td>\n",
       "    </tr>\n",
       "    <tr>\n",
       "      <th>4</th>\n",
       "      <td>Burnley</td>\n",
       "      <td>35</td>\n",
       "      <td>7</td>\n",
       "      <td>14</td>\n",
       "      <td>17</td>\n",
       "      <td>34</td>\n",
       "      <td>53</td>\n",
       "      <td>127</td>\n",
       "      <td>9</td>\n",
       "      <td>7</td>\n",
       "      <td>119</td>\n",
       "      <td>9453</td>\n",
       "      <td>747</td>\n",
       "      <td>1000</td>\n",
       "      <td>509</td>\n",
       "      <td>18</td>\n",
       "      <td>40.2</td>\n",
       "      <td>2027</td>\n",
       "      <td>53.0</td>\n",
       "    </tr>\n",
       "  </tbody>\n",
       "</table>\n",
       "</div>"
      ],
      "text/plain": [
       "          TEAM  PTS   W   D   L  GF  GA  SAVES  CLEAN SHEET  CK goals against  \\\n",
       "0      Arsenal   69  22   3  13  61  48    100           13                 3   \n",
       "1  Aston Villa   45  13   6  19  52  54     96           11                 5   \n",
       "2    Brentford   46  13   7  18  48  56    125            9                 8   \n",
       "3     Brighton   51  12  15  11  42  44    102           11                 6   \n",
       "4      Burnley   35   7  14  17  34  53    127            9                 7   \n",
       "\n",
       "   SHOTS ON TARGET  PASSES COMPLETED  Cross Passes  Tkl+Int  BLOCKS  \\\n",
       "0              186             16176           633      836     386   \n",
       "1              159             12748           670      974     453   \n",
       "2              141             11676           640     1000     383   \n",
       "3              141             16410           728     1026     480   \n",
       "4              119              9453           747     1000     509   \n",
       "\n",
       "   Defensive Error  Posession PERC  LOOSE BALLS RECOVER  AERIAL DUEL WON PERC  \n",
       "0               20            52.8                 1861                  44.7  \n",
       "1               13            46.5                 1850                  49.0  \n",
       "2                7            44.8                 2061                  49.6  \n",
       "3               12            54.4                 2154                  53.3  \n",
       "4               18            40.2                 2027                  53.0  "
      ]
     },
     "execution_count": 79,
     "metadata": {},
     "output_type": "execute_result"
    }
   ],
   "source": [
    "df.head()"
   ]
  },
  {
   "cell_type": "markdown",
   "id": "b4096df5",
   "metadata": {},
   "source": [
    "### Exploratory Data Analysis"
   ]
  },
  {
   "cell_type": "code",
   "execution_count": null,
   "id": "5bccd828",
   "metadata": {},
   "outputs": [],
   "source": []
  },
  {
   "cell_type": "markdown",
   "id": "b515c128",
   "metadata": {},
   "source": [
    "### Dropping Team and position columns"
   ]
  },
  {
   "cell_type": "code",
   "execution_count": 80,
   "id": "bc9a2a07",
   "metadata": {},
   "outputs": [],
   "source": [
    "df=df.drop(['TEAM'],axis=1)"
   ]
  },
  {
   "cell_type": "code",
   "execution_count": 81,
   "id": "27c8eb25",
   "metadata": {},
   "outputs": [
    {
     "data": {
      "text/html": [
       "<div>\n",
       "<style scoped>\n",
       "    .dataframe tbody tr th:only-of-type {\n",
       "        vertical-align: middle;\n",
       "    }\n",
       "\n",
       "    .dataframe tbody tr th {\n",
       "        vertical-align: top;\n",
       "    }\n",
       "\n",
       "    .dataframe thead th {\n",
       "        text-align: right;\n",
       "    }\n",
       "</style>\n",
       "<table border=\"1\" class=\"dataframe\">\n",
       "  <thead>\n",
       "    <tr style=\"text-align: right;\">\n",
       "      <th></th>\n",
       "      <th>PTS</th>\n",
       "      <th>W</th>\n",
       "      <th>D</th>\n",
       "      <th>L</th>\n",
       "      <th>GF</th>\n",
       "      <th>GA</th>\n",
       "      <th>SAVES</th>\n",
       "      <th>CLEAN SHEET</th>\n",
       "      <th>CK goals against</th>\n",
       "      <th>SHOTS ON TARGET</th>\n",
       "      <th>PASSES COMPLETED</th>\n",
       "      <th>Cross Passes</th>\n",
       "      <th>Tkl+Int</th>\n",
       "      <th>BLOCKS</th>\n",
       "      <th>Defensive Error</th>\n",
       "      <th>Posession PERC</th>\n",
       "      <th>LOOSE BALLS RECOVER</th>\n",
       "      <th>AERIAL DUEL WON PERC</th>\n",
       "    </tr>\n",
       "  </thead>\n",
       "  <tbody>\n",
       "    <tr>\n",
       "      <th>0</th>\n",
       "      <td>69</td>\n",
       "      <td>22</td>\n",
       "      <td>3</td>\n",
       "      <td>13</td>\n",
       "      <td>61</td>\n",
       "      <td>48</td>\n",
       "      <td>100</td>\n",
       "      <td>13</td>\n",
       "      <td>3</td>\n",
       "      <td>186</td>\n",
       "      <td>16176</td>\n",
       "      <td>633</td>\n",
       "      <td>836</td>\n",
       "      <td>386</td>\n",
       "      <td>20</td>\n",
       "      <td>52.8</td>\n",
       "      <td>1861</td>\n",
       "      <td>44.7</td>\n",
       "    </tr>\n",
       "    <tr>\n",
       "      <th>1</th>\n",
       "      <td>45</td>\n",
       "      <td>13</td>\n",
       "      <td>6</td>\n",
       "      <td>19</td>\n",
       "      <td>52</td>\n",
       "      <td>54</td>\n",
       "      <td>96</td>\n",
       "      <td>11</td>\n",
       "      <td>5</td>\n",
       "      <td>159</td>\n",
       "      <td>12748</td>\n",
       "      <td>670</td>\n",
       "      <td>974</td>\n",
       "      <td>453</td>\n",
       "      <td>13</td>\n",
       "      <td>46.5</td>\n",
       "      <td>1850</td>\n",
       "      <td>49.0</td>\n",
       "    </tr>\n",
       "    <tr>\n",
       "      <th>2</th>\n",
       "      <td>46</td>\n",
       "      <td>13</td>\n",
       "      <td>7</td>\n",
       "      <td>18</td>\n",
       "      <td>48</td>\n",
       "      <td>56</td>\n",
       "      <td>125</td>\n",
       "      <td>9</td>\n",
       "      <td>8</td>\n",
       "      <td>141</td>\n",
       "      <td>11676</td>\n",
       "      <td>640</td>\n",
       "      <td>1000</td>\n",
       "      <td>383</td>\n",
       "      <td>7</td>\n",
       "      <td>44.8</td>\n",
       "      <td>2061</td>\n",
       "      <td>49.6</td>\n",
       "    </tr>\n",
       "    <tr>\n",
       "      <th>3</th>\n",
       "      <td>51</td>\n",
       "      <td>12</td>\n",
       "      <td>15</td>\n",
       "      <td>11</td>\n",
       "      <td>42</td>\n",
       "      <td>44</td>\n",
       "      <td>102</td>\n",
       "      <td>11</td>\n",
       "      <td>6</td>\n",
       "      <td>141</td>\n",
       "      <td>16410</td>\n",
       "      <td>728</td>\n",
       "      <td>1026</td>\n",
       "      <td>480</td>\n",
       "      <td>12</td>\n",
       "      <td>54.4</td>\n",
       "      <td>2154</td>\n",
       "      <td>53.3</td>\n",
       "    </tr>\n",
       "    <tr>\n",
       "      <th>4</th>\n",
       "      <td>35</td>\n",
       "      <td>7</td>\n",
       "      <td>14</td>\n",
       "      <td>17</td>\n",
       "      <td>34</td>\n",
       "      <td>53</td>\n",
       "      <td>127</td>\n",
       "      <td>9</td>\n",
       "      <td>7</td>\n",
       "      <td>119</td>\n",
       "      <td>9453</td>\n",
       "      <td>747</td>\n",
       "      <td>1000</td>\n",
       "      <td>509</td>\n",
       "      <td>18</td>\n",
       "      <td>40.2</td>\n",
       "      <td>2027</td>\n",
       "      <td>53.0</td>\n",
       "    </tr>\n",
       "  </tbody>\n",
       "</table>\n",
       "</div>"
      ],
      "text/plain": [
       "   PTS   W   D   L  GF  GA  SAVES  CLEAN SHEET  CK goals against  \\\n",
       "0   69  22   3  13  61  48    100           13                 3   \n",
       "1   45  13   6  19  52  54     96           11                 5   \n",
       "2   46  13   7  18  48  56    125            9                 8   \n",
       "3   51  12  15  11  42  44    102           11                 6   \n",
       "4   35   7  14  17  34  53    127            9                 7   \n",
       "\n",
       "   SHOTS ON TARGET  PASSES COMPLETED  Cross Passes  Tkl+Int  BLOCKS  \\\n",
       "0              186             16176           633      836     386   \n",
       "1              159             12748           670      974     453   \n",
       "2              141             11676           640     1000     383   \n",
       "3              141             16410           728     1026     480   \n",
       "4              119              9453           747     1000     509   \n",
       "\n",
       "   Defensive Error  Posession PERC  LOOSE BALLS RECOVER  AERIAL DUEL WON PERC  \n",
       "0               20            52.8                 1861                  44.7  \n",
       "1               13            46.5                 1850                  49.0  \n",
       "2                7            44.8                 2061                  49.6  \n",
       "3               12            54.4                 2154                  53.3  \n",
       "4               18            40.2                 2027                  53.0  "
      ]
     },
     "execution_count": 81,
     "metadata": {},
     "output_type": "execute_result"
    }
   ],
   "source": [
    "df.head()"
   ]
  },
  {
   "cell_type": "markdown",
   "id": "c0a34dc2",
   "metadata": {},
   "source": [
    "### Applying Train Test split"
   ]
  },
  {
   "cell_type": "code",
   "execution_count": 82,
   "id": "c0141c32",
   "metadata": {},
   "outputs": [],
   "source": [
    "X=df[['W','D','L','GF','GA','SAVES','CLEAN SHEET','CK goals against','SHOTS ON TARGET','PASSES COMPLETED','Cross Passes','Tkl+Int','BLOCKS','Defensive Error','Posession PERC','LOOSE BALLS RECOVER','AERIAL DUEL WON PERC']]"
   ]
  },
  {
   "cell_type": "code",
   "execution_count": 83,
   "id": "09717bcc",
   "metadata": {},
   "outputs": [],
   "source": [
    "y=df[['PTS']]"
   ]
  },
  {
   "cell_type": "code",
   "execution_count": 53,
   "id": "71a13a08",
   "metadata": {},
   "outputs": [],
   "source": [
    "from sklearn.model_selection import train_test_split\n",
    "X_train,X_test,y_train,y_test=train_test_split(X,y,test_size=0.2)"
   ]
  },
  {
   "cell_type": "code",
   "execution_count": null,
   "id": "633bbba1",
   "metadata": {},
   "outputs": [],
   "source": []
  },
  {
   "cell_type": "markdown",
   "id": "9e2b844b",
   "metadata": {},
   "source": [
    "### VIF 1"
   ]
  },
  {
   "cell_type": "code",
   "execution_count": 116,
   "id": "5eb001e0",
   "metadata": {},
   "outputs": [],
   "source": [
    "from statsmodels.stats.outliers_influence import variance_inflation_factor\n"
   ]
  },
  {
   "cell_type": "code",
   "execution_count": 117,
   "id": "27fecc2b",
   "metadata": {},
   "outputs": [],
   "source": [
    "vif_data = pd.DataFrame()\n",
    "vif_data[\"feature\"] = X.columns\n",
    "vif_data[\"VIF\"] = [variance_inflation_factor(X.values, i)\n",
    "                          for i in range(len(X.columns))]"
   ]
  },
  {
   "cell_type": "code",
   "execution_count": 118,
   "id": "0191e13d",
   "metadata": {},
   "outputs": [
    {
     "name": "stdout",
     "output_type": "stream",
     "text": [
      "            feature        VIF\n",
      "2    Posession PERC  11.254467\n",
      "1   Defensive Error  10.199466\n",
      "0  CK goals against   4.671027\n"
     ]
    }
   ],
   "source": [
    "print(vif_data.sort_values(by=['VIF'],ascending=False))\n"
   ]
  },
  {
   "cell_type": "markdown",
   "id": "b49efe33",
   "metadata": {},
   "source": [
    "### VIF 2"
   ]
  },
  {
   "cell_type": "code",
   "execution_count": 152,
   "id": "59c37dc6",
   "metadata": {},
   "outputs": [],
   "source": [
    "X=df[['CLEAN SHEET','CK goals against','Defensive Error']]"
   ]
  },
  {
   "cell_type": "code",
   "execution_count": 153,
   "id": "14b2ad34",
   "metadata": {},
   "outputs": [],
   "source": [
    "vif_data = pd.DataFrame()\n",
    "vif_data[\"feature\"] = X.columns\n",
    "vif_data[\"VIF\"] = [variance_inflation_factor(X.values, i)\n",
    "                          for i in range(len(X.columns))]"
   ]
  },
  {
   "cell_type": "code",
   "execution_count": 154,
   "id": "a67dbb5d",
   "metadata": {},
   "outputs": [
    {
     "name": "stdout",
     "output_type": "stream",
     "text": [
      "            feature       VIF\n",
      "2   Defensive Error  6.720166\n",
      "0       CLEAN SHEET  4.581806\n",
      "1  CK goals against  4.112358\n"
     ]
    }
   ],
   "source": [
    "print(vif_data.sort_values(by=['VIF'],ascending=False))\n"
   ]
  },
  {
   "cell_type": "markdown",
   "id": "48fd624a",
   "metadata": {},
   "source": [
    "### Assumptions"
   ]
  },
  {
   "cell_type": "code",
   "execution_count": 155,
   "id": "a1f4e555",
   "metadata": {},
   "outputs": [],
   "source": [
    "from sklearn.model_selection import train_test_split\n",
    "X_train,X_test,y_train,y_test=train_test_split(X,y,test_size=0.2)"
   ]
  },
  {
   "cell_type": "markdown",
   "id": "cf8aacef",
   "metadata": {},
   "source": [
    "### Linear Regression"
   ]
  },
  {
   "cell_type": "code",
   "execution_count": 156,
   "id": "cb2d0843",
   "metadata": {},
   "outputs": [],
   "source": [
    "from sklearn.linear_model import LinearRegression"
   ]
  },
  {
   "cell_type": "code",
   "execution_count": 157,
   "id": "7750a058",
   "metadata": {},
   "outputs": [],
   "source": [
    "from sklearn.metrics import r2_score"
   ]
  },
  {
   "cell_type": "code",
   "execution_count": 158,
   "id": "48920c32",
   "metadata": {},
   "outputs": [],
   "source": [
    "lr=LinearRegression()"
   ]
  },
  {
   "cell_type": "code",
   "execution_count": 159,
   "id": "0f00b040",
   "metadata": {},
   "outputs": [
    {
     "data": {
      "text/plain": [
       "LinearRegression()"
      ]
     },
     "execution_count": 159,
     "metadata": {},
     "output_type": "execute_result"
    }
   ],
   "source": [
    "lr.fit(X_train,y_train)"
   ]
  },
  {
   "cell_type": "code",
   "execution_count": 160,
   "id": "41dad8dd",
   "metadata": {},
   "outputs": [
    {
     "name": "stdout",
     "output_type": "stream",
     "text": [
      "[[ 3.78316227 -0.49794431  0.4038683 ]]\n"
     ]
    }
   ],
   "source": [
    "print(lr.coef_)\n"
   ]
  },
  {
   "cell_type": "code",
   "execution_count": 161,
   "id": "bbc7211f",
   "metadata": {},
   "outputs": [
    {
     "name": "stdout",
     "output_type": "stream",
     "text": [
      "[8.67463537]\n"
     ]
    }
   ],
   "source": [
    "print(lr.intercept_)\n"
   ]
  },
  {
   "cell_type": "code",
   "execution_count": 162,
   "id": "5523561e",
   "metadata": {},
   "outputs": [
    {
     "ename": "ValueError",
     "evalue": "Shape of passed values is (1, 3), indices imply (3, 1)",
     "output_type": "error",
     "traceback": [
      "\u001b[1;31m---------------------------------------------------------------------------\u001b[0m",
      "\u001b[1;31mValueError\u001b[0m                                Traceback (most recent call last)",
      "Input \u001b[1;32mIn [162]\u001b[0m, in \u001b[0;36m<cell line: 1>\u001b[1;34m()\u001b[0m\n\u001b[1;32m----> 1\u001b[0m \u001b[43mpd\u001b[49m\u001b[38;5;241;43m.\u001b[39;49m\u001b[43mDataFrame\u001b[49m\u001b[43m(\u001b[49m\u001b[43mlr\u001b[49m\u001b[38;5;241;43m.\u001b[39;49m\u001b[43mcoef_\u001b[49m\u001b[43m,\u001b[49m\u001b[43m \u001b[49m\u001b[43mX\u001b[49m\u001b[38;5;241;43m.\u001b[39;49m\u001b[43mcolumns\u001b[49m\u001b[43m,\u001b[49m\u001b[43m \u001b[49m\u001b[43mcolumns\u001b[49m\u001b[43m \u001b[49m\u001b[38;5;241;43m=\u001b[39;49m\u001b[43m \u001b[49m\u001b[43m[\u001b[49m\u001b[38;5;124;43m'\u001b[39;49m\u001b[38;5;124;43mCoeff\u001b[39;49m\u001b[38;5;124;43m'\u001b[39;49m\u001b[43m]\u001b[49m\u001b[43m)\u001b[49m\n",
      "File \u001b[1;32m~\\anaconda3\\lib\\site-packages\\pandas\\core\\frame.py:694\u001b[0m, in \u001b[0;36mDataFrame.__init__\u001b[1;34m(self, data, index, columns, dtype, copy)\u001b[0m\n\u001b[0;32m    684\u001b[0m         mgr \u001b[38;5;241m=\u001b[39m dict_to_mgr(\n\u001b[0;32m    685\u001b[0m             \u001b[38;5;66;03m# error: Item \"ndarray\" of \"Union[ndarray, Series, Index]\" has no\u001b[39;00m\n\u001b[0;32m    686\u001b[0m             \u001b[38;5;66;03m# attribute \"name\"\u001b[39;00m\n\u001b[1;32m   (...)\u001b[0m\n\u001b[0;32m    691\u001b[0m             typ\u001b[38;5;241m=\u001b[39mmanager,\n\u001b[0;32m    692\u001b[0m         )\n\u001b[0;32m    693\u001b[0m     \u001b[38;5;28;01melse\u001b[39;00m:\n\u001b[1;32m--> 694\u001b[0m         mgr \u001b[38;5;241m=\u001b[39m \u001b[43mndarray_to_mgr\u001b[49m\u001b[43m(\u001b[49m\n\u001b[0;32m    695\u001b[0m \u001b[43m            \u001b[49m\u001b[43mdata\u001b[49m\u001b[43m,\u001b[49m\n\u001b[0;32m    696\u001b[0m \u001b[43m            \u001b[49m\u001b[43mindex\u001b[49m\u001b[43m,\u001b[49m\n\u001b[0;32m    697\u001b[0m \u001b[43m            \u001b[49m\u001b[43mcolumns\u001b[49m\u001b[43m,\u001b[49m\n\u001b[0;32m    698\u001b[0m \u001b[43m            \u001b[49m\u001b[43mdtype\u001b[49m\u001b[38;5;241;43m=\u001b[39;49m\u001b[43mdtype\u001b[49m\u001b[43m,\u001b[49m\n\u001b[0;32m    699\u001b[0m \u001b[43m            \u001b[49m\u001b[43mcopy\u001b[49m\u001b[38;5;241;43m=\u001b[39;49m\u001b[43mcopy\u001b[49m\u001b[43m,\u001b[49m\n\u001b[0;32m    700\u001b[0m \u001b[43m            \u001b[49m\u001b[43mtyp\u001b[49m\u001b[38;5;241;43m=\u001b[39;49m\u001b[43mmanager\u001b[49m\u001b[43m,\u001b[49m\n\u001b[0;32m    701\u001b[0m \u001b[43m        \u001b[49m\u001b[43m)\u001b[49m\n\u001b[0;32m    703\u001b[0m \u001b[38;5;66;03m# For data is list-like, or Iterable (will consume into list)\u001b[39;00m\n\u001b[0;32m    704\u001b[0m \u001b[38;5;28;01melif\u001b[39;00m is_list_like(data):\n",
      "File \u001b[1;32m~\\anaconda3\\lib\\site-packages\\pandas\\core\\internals\\construction.py:351\u001b[0m, in \u001b[0;36mndarray_to_mgr\u001b[1;34m(values, index, columns, dtype, copy, typ)\u001b[0m\n\u001b[0;32m    346\u001b[0m \u001b[38;5;66;03m# _prep_ndarray ensures that values.ndim == 2 at this point\u001b[39;00m\n\u001b[0;32m    347\u001b[0m index, columns \u001b[38;5;241m=\u001b[39m _get_axes(\n\u001b[0;32m    348\u001b[0m     values\u001b[38;5;241m.\u001b[39mshape[\u001b[38;5;241m0\u001b[39m], values\u001b[38;5;241m.\u001b[39mshape[\u001b[38;5;241m1\u001b[39m], index\u001b[38;5;241m=\u001b[39mindex, columns\u001b[38;5;241m=\u001b[39mcolumns\n\u001b[0;32m    349\u001b[0m )\n\u001b[1;32m--> 351\u001b[0m \u001b[43m_check_values_indices_shape_match\u001b[49m\u001b[43m(\u001b[49m\u001b[43mvalues\u001b[49m\u001b[43m,\u001b[49m\u001b[43m \u001b[49m\u001b[43mindex\u001b[49m\u001b[43m,\u001b[49m\u001b[43m \u001b[49m\u001b[43mcolumns\u001b[49m\u001b[43m)\u001b[49m\n\u001b[0;32m    353\u001b[0m \u001b[38;5;28;01mif\u001b[39;00m typ \u001b[38;5;241m==\u001b[39m \u001b[38;5;124m\"\u001b[39m\u001b[38;5;124marray\u001b[39m\u001b[38;5;124m\"\u001b[39m:\n\u001b[0;32m    355\u001b[0m     \u001b[38;5;28;01mif\u001b[39;00m \u001b[38;5;28missubclass\u001b[39m(values\u001b[38;5;241m.\u001b[39mdtype\u001b[38;5;241m.\u001b[39mtype, \u001b[38;5;28mstr\u001b[39m):\n",
      "File \u001b[1;32m~\\anaconda3\\lib\\site-packages\\pandas\\core\\internals\\construction.py:422\u001b[0m, in \u001b[0;36m_check_values_indices_shape_match\u001b[1;34m(values, index, columns)\u001b[0m\n\u001b[0;32m    420\u001b[0m passed \u001b[38;5;241m=\u001b[39m values\u001b[38;5;241m.\u001b[39mshape\n\u001b[0;32m    421\u001b[0m implied \u001b[38;5;241m=\u001b[39m (\u001b[38;5;28mlen\u001b[39m(index), \u001b[38;5;28mlen\u001b[39m(columns))\n\u001b[1;32m--> 422\u001b[0m \u001b[38;5;28;01mraise\u001b[39;00m \u001b[38;5;167;01mValueError\u001b[39;00m(\u001b[38;5;124mf\u001b[39m\u001b[38;5;124m\"\u001b[39m\u001b[38;5;124mShape of passed values is \u001b[39m\u001b[38;5;132;01m{\u001b[39;00mpassed\u001b[38;5;132;01m}\u001b[39;00m\u001b[38;5;124m, indices imply \u001b[39m\u001b[38;5;132;01m{\u001b[39;00mimplied\u001b[38;5;132;01m}\u001b[39;00m\u001b[38;5;124m\"\u001b[39m)\n",
      "\u001b[1;31mValueError\u001b[0m: Shape of passed values is (1, 3), indices imply (3, 1)"
     ]
    }
   ],
   "source": [
    "pd.DataFrame(lr.coef_, X.columns, columns = ['Coeff'])"
   ]
  },
  {
   "cell_type": "code",
   "execution_count": 97,
   "id": "e1e178cd",
   "metadata": {},
   "outputs": [
    {
     "ename": "AttributeError",
     "evalue": "'LinearRegression' object has no attribute 'summary'",
     "output_type": "error",
     "traceback": [
      "\u001b[1;31m---------------------------------------------------------------------------\u001b[0m",
      "\u001b[1;31mAttributeError\u001b[0m                            Traceback (most recent call last)",
      "Input \u001b[1;32mIn [97]\u001b[0m, in \u001b[0;36m<cell line: 1>\u001b[1;34m()\u001b[0m\n\u001b[1;32m----> 1\u001b[0m \u001b[43mlr\u001b[49m\u001b[38;5;241;43m.\u001b[39;49m\u001b[43msummary\u001b[49m()\n",
      "\u001b[1;31mAttributeError\u001b[0m: 'LinearRegression' object has no attribute 'summary'"
     ]
    }
   ],
   "source": [
    "lr.\n"
   ]
  },
  {
   "cell_type": "code",
   "execution_count": 163,
   "id": "f1be70bc",
   "metadata": {},
   "outputs": [],
   "source": [
    "y_pred=lr.predict(X_test)"
   ]
  },
  {
   "cell_type": "code",
   "execution_count": 164,
   "id": "29d3b03f",
   "metadata": {},
   "outputs": [
    {
     "data": {
      "text/plain": [
       "<matplotlib.collections.PathCollection at 0x26f0f42ebb0>"
      ]
     },
     "execution_count": 164,
     "metadata": {},
     "output_type": "execute_result"
    },
    {
     "data": {
      "image/png": "[encoded data removed]",
      "text/plain": [
       "<Figure size 432x288 with 1 Axes>"
      ]
     },
     "metadata": {
      "needs_background": "light"
     },
     "output_type": "display_data"
    }
   ],
   "source": [
    "plt.scatter(y_test, y_pred)\n"
   ]
  },
  {
   "cell_type": "code",
   "execution_count": 165,
   "id": "fec6724a",
   "metadata": {},
   "outputs": [
    {
     "data": {
      "text/plain": [
       "(array([2., 3., 2., 4., 4., 2., 1., 1., 0., 1.]),\n",
       " array([-15.65546259, -11.87949165,  -8.10352071,  -4.32754977,\n",
       "         -0.55157883,   3.22439211,   7.00036305,  10.77633399,\n",
       "         14.55230493,  18.32827587,  22.10424681]),\n",
       " <BarContainer object of 10 artists>)"
      ]
     },
     "execution_count": 165,
     "metadata": {},
     "output_type": "execute_result"
    },
    {
     "data": {
      "image/png": "[encoded data removed]",
      "text/plain": [
       "<Figure size 432x288 with 1 Axes>"
      ]
     },
     "metadata": {
      "needs_background": "light"
     },
     "output_type": "display_data"
    }
   ],
   "source": [
    "plt.hist(y_test - y_pred)\n"
   ]
  },
  {
   "cell_type": "code",
   "execution_count": 166,
   "id": "856d39f2",
   "metadata": {},
   "outputs": [
    {
     "data": {
      "text/plain": [
       "0.760692572481293"
      ]
     },
     "execution_count": 166,
     "metadata": {},
     "output_type": "execute_result"
    }
   ],
   "source": [
    "r2_score(y_test,y_pred)"
   ]
  },
  {
   "cell_type": "code",
   "execution_count": 167,
   "id": "d92834c4",
   "metadata": {},
   "outputs": [],
   "source": [
    "from sklearn import metrics\n"
   ]
  },
  {
   "cell_type": "markdown",
   "id": "fc9b1710",
   "metadata": {},
   "source": [
    "### Mean Absolute Error (MAE)\n",
    "\n"
   ]
  },
  {
   "cell_type": "code",
   "execution_count": 50,
   "id": "33855bf4",
   "metadata": {},
   "outputs": [
    {
     "data": {
      "text/plain": [
       "2.009392049852517"
      ]
     },
     "execution_count": 50,
     "metadata": {},
     "output_type": "execute_result"
    }
   ],
   "source": [
    "Root Mean Squared Error (RMSE)\n"
   ]
  },
  {
   "cell_type": "markdown",
   "id": "dd15c1bd",
   "metadata": {},
   "source": [
    "### Root Mean Squared Error (RMSE)\n"
   ]
  },
  {
   "cell_type": "code",
   "execution_count": 168,
   "id": "d92fdd52",
   "metadata": {},
   "outputs": [
    {
     "data": {
      "text/plain": [
       "9.174247398702764"
      ]
     },
     "execution_count": 168,
     "metadata": {},
     "output_type": "execute_result"
    }
   ],
   "source": [
    "np.sqrt(metrics.mean_squared_error(y_test, y_pred))\n"
   ]
  },
  {
   "cell_type": "code",
   "execution_count": null,
   "id": "f9973585",
   "metadata": {},
   "outputs": [],
   "source": [
    "MAPE"
   ]
  },
  {
   "cell_type": "code",
   "execution_count": 169,
   "id": "3cac9eab",
   "metadata": {},
   "outputs": [
    {
     "name": "stderr",
     "output_type": "stream",
     "text": [
      "C:\\Users\\Fuzzy\\anaconda3\\lib\\site-packages\\numpy\\core\\fromnumeric.py:3438: FutureWarning: In a future version, DataFrame.mean(axis=None) will return a scalar mean over the entire DataFrame. To retain the old behavior, use 'frame.mean(axis=0)' or just 'frame.mean()'\n",
      "  return mean(axis=axis, dtype=dtype, out=out, **kwargs)\n"
     ]
    },
    {
     "data": {
      "text/plain": [
       "PTS    16.588421\n",
       "dtype: float64"
      ]
     },
     "execution_count": 169,
     "metadata": {},
     "output_type": "execute_result"
    }
   ],
   "source": [
    "np.mean((np.abs(y_test-y_pred)/y_test)*100)"
   ]
  },
  {
   "cell_type": "code",
   "execution_count": null,
   "id": "2c005919",
   "metadata": {},
   "outputs": [],
   "source": []
  }
 ],
 "metadata": {
  "kernelspec": {
   "display_name": "Python 3 (ipykernel)",
   "language": "python",
   "name": "python3"
  },
  "language_info": {
   "codemirror_mode": {
    "name": "ipython",
    "version": 3
   },
   "file_extension": ".py",
   "mimetype": "text/x-python",
   "name": "python",
   "nbconvert_exporter": "python",
   "pygments_lexer": "ipython3",
   "version": "3.9.12"
  }
 },
 "nbformat": 4,
 "nbformat_minor": 5
}
